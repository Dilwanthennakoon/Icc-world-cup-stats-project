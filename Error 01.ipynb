{
 "cells": [
  {
   "cell_type": "markdown",
   "id": "58ce7535-446c-4516-8b33-c50a1ed55d8f",
   "metadata": {},
   "source": [
    "# Error 01"
   ]
  },
  {
   "cell_type": "code",
   "execution_count": 1,
   "id": "12576490-1303-4e36-9396-e22f0fd93e69",
   "metadata": {},
   "outputs": [
    {
     "name": "stderr",
     "output_type": "stream",
     "text": [
      "ERROR: Invalid requirement: 'transformers\\xa0torch': Expected end or semicolon (after name and no valid version specifier)\n",
      "    transformers torch\n",
      "                ^\n"
     ]
    }
   ],
   "source": [
    "!pip install pandas matplotlib transformers torch"
   ]
  },
  {
   "cell_type": "markdown",
   "id": "e942cb15-480b-47fc-b321-9749b035f197",
   "metadata": {},
   "source": [
    "### Invalid Requirement — 'transformers\\xa0torch'\n",
    "\n",
    "**What Happened:**\n",
    "I tried to install both transformers and torch using this command.\n",
    "But it gave me this error then.\n",
    "\n",
    "**Reason:**\n",
    "There was an invisible character (non-standard space) between the words, which made the command invalid.\n",
    "\n",
    "**Solution:**\n",
    "I retyped the command to make sure the spacing was correct."
   ]
  }
 ],
 "metadata": {
  "kernelspec": {
   "display_name": "Python 3 (ipykernel)",
   "language": "python",
   "name": "python3"
  },
  "language_info": {
   "codemirror_mode": {
    "name": "ipython",
    "version": 3
   },
   "file_extension": ".py",
   "mimetype": "text/x-python",
   "name": "python",
   "nbconvert_exporter": "python",
   "pygments_lexer": "ipython3",
   "version": "3.12.7"
  }
 },
 "nbformat": 4,
 "nbformat_minor": 5
}

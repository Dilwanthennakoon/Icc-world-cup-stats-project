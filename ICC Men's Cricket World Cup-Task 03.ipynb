{
 "cells": [
  {
   "cell_type": "markdown",
   "id": "e2d242a7-bafd-46f3-a615-96ff264c033c",
   "metadata": {},
   "source": [
    "### 1. Installing Libraries"
   ]
  },
  {
   "cell_type": "code",
   "execution_count": 2,
   "id": "3c754482-8917-44f7-ab30-04bccbc70aa2",
   "metadata": {},
   "outputs": [
    {
     "name": "stdout",
     "output_type": "stream",
     "text": [
      "Requirement already satisfied: pandas in c:\\users\\d u l m i\\anaconda3\\lib\\site-packages (2.2.2)\n",
      "Requirement already satisfied: matplotlib in c:\\users\\d u l m i\\anaconda3\\lib\\site-packages (3.9.2)\n",
      "Requirement already satisfied: transformers in c:\\users\\d u l m i\\anaconda3\\lib\\site-packages (4.51.3)\n",
      "Requirement already satisfied: torch in c:\\users\\d u l m i\\anaconda3\\lib\\site-packages (2.6.0)\n",
      "Requirement already satisfied: numpy>=1.26.0 in c:\\users\\d u l m i\\anaconda3\\lib\\site-packages (from pandas) (1.26.4)\n",
      "Requirement already satisfied: python-dateutil>=2.8.2 in c:\\users\\d u l m i\\anaconda3\\lib\\site-packages (from pandas) (2.9.0.post0)\n",
      "Requirement already satisfied: pytz>=2020.1 in c:\\users\\d u l m i\\anaconda3\\lib\\site-packages (from pandas) (2024.1)\n",
      "Requirement already satisfied: tzdata>=2022.7 in c:\\users\\d u l m i\\anaconda3\\lib\\site-packages (from pandas) (2023.3)\n",
      "Requirement already satisfied: contourpy>=1.0.1 in c:\\users\\d u l m i\\anaconda3\\lib\\site-packages (from matplotlib) (1.2.0)\n",
      "Requirement already satisfied: cycler>=0.10 in c:\\users\\d u l m i\\anaconda3\\lib\\site-packages (from matplotlib) (0.11.0)\n",
      "Requirement already satisfied: fonttools>=4.22.0 in c:\\users\\d u l m i\\anaconda3\\lib\\site-packages (from matplotlib) (4.51.0)\n",
      "Requirement already satisfied: kiwisolver>=1.3.1 in c:\\users\\d u l m i\\anaconda3\\lib\\site-packages (from matplotlib) (1.4.4)\n",
      "Requirement already satisfied: packaging>=20.0 in c:\\users\\d u l m i\\anaconda3\\lib\\site-packages (from matplotlib) (24.1)\n",
      "Requirement already satisfied: pillow>=8 in c:\\users\\d u l m i\\anaconda3\\lib\\site-packages (from matplotlib) (10.4.0)\n",
      "Requirement already satisfied: pyparsing>=2.3.1 in c:\\users\\d u l m i\\anaconda3\\lib\\site-packages (from matplotlib) (3.1.2)\n",
      "Requirement already satisfied: filelock in c:\\users\\d u l m i\\anaconda3\\lib\\site-packages (from transformers) (3.13.1)\n",
      "Requirement already satisfied: huggingface-hub<1.0,>=0.30.0 in c:\\users\\d u l m i\\anaconda3\\lib\\site-packages (from transformers) (0.30.2)\n",
      "Requirement already satisfied: pyyaml>=5.1 in c:\\users\\d u l m i\\anaconda3\\lib\\site-packages (from transformers) (6.0.1)\n",
      "Requirement already satisfied: regex!=2019.12.17 in c:\\users\\d u l m i\\anaconda3\\lib\\site-packages (from transformers) (2024.9.11)\n",
      "Requirement already satisfied: requests in c:\\users\\d u l m i\\anaconda3\\lib\\site-packages (from transformers) (2.32.3)\n",
      "Requirement already satisfied: tokenizers<0.22,>=0.21 in c:\\users\\d u l m i\\anaconda3\\lib\\site-packages (from transformers) (0.21.1)\n",
      "Requirement already satisfied: safetensors>=0.4.3 in c:\\users\\d u l m i\\anaconda3\\lib\\site-packages (from transformers) (0.5.3)\n",
      "Requirement already satisfied: tqdm>=4.27 in c:\\users\\d u l m i\\anaconda3\\lib\\site-packages (from transformers) (4.66.5)\n",
      "Requirement already satisfied: typing-extensions>=4.10.0 in c:\\users\\d u l m i\\anaconda3\\lib\\site-packages (from torch) (4.13.2)\n",
      "Requirement already satisfied: networkx in c:\\users\\d u l m i\\anaconda3\\lib\\site-packages (from torch) (3.3)\n",
      "Requirement already satisfied: jinja2 in c:\\users\\d u l m i\\anaconda3\\lib\\site-packages (from torch) (3.1.4)\n",
      "Requirement already satisfied: fsspec in c:\\users\\d u l m i\\anaconda3\\lib\\site-packages (from torch) (2024.6.1)\n",
      "Requirement already satisfied: setuptools in c:\\users\\d u l m i\\anaconda3\\lib\\site-packages (from torch) (75.1.0)\n",
      "Requirement already satisfied: sympy==1.13.1 in c:\\users\\d u l m i\\anaconda3\\lib\\site-packages (from torch) (1.13.1)\n",
      "Requirement already satisfied: mpmath<1.4,>=1.1.0 in c:\\users\\d u l m i\\anaconda3\\lib\\site-packages (from sympy==1.13.1->torch) (1.3.0)\n",
      "Requirement already satisfied: six>=1.5 in c:\\users\\d u l m i\\anaconda3\\lib\\site-packages (from python-dateutil>=2.8.2->pandas) (1.16.0)\n",
      "Requirement already satisfied: colorama in c:\\users\\d u l m i\\anaconda3\\lib\\site-packages (from tqdm>=4.27->transformers) (0.4.6)\n",
      "Requirement already satisfied: MarkupSafe>=2.0 in c:\\users\\d u l m i\\anaconda3\\lib\\site-packages (from jinja2->torch) (2.1.3)\n",
      "Requirement already satisfied: charset-normalizer<4,>=2 in c:\\users\\d u l m i\\anaconda3\\lib\\site-packages (from requests->transformers) (3.3.2)\n",
      "Requirement already satisfied: idna<4,>=2.5 in c:\\users\\d u l m i\\anaconda3\\lib\\site-packages (from requests->transformers) (3.7)\n",
      "Requirement already satisfied: urllib3<3,>=1.21.1 in c:\\users\\d u l m i\\anaconda3\\lib\\site-packages (from requests->transformers) (2.2.3)\n",
      "Requirement already satisfied: certifi>=2017.4.17 in c:\\users\\d u l m i\\anaconda3\\lib\\site-packages (from requests->transformers) (2025.4.26)\n"
     ]
    }
   ],
   "source": [
    "!pip install pandas matplotlib transformers torch"
   ]
  },
  {
   "cell_type": "markdown",
   "id": "e162ba2e-7833-4678-a5a0-55cfa7024ebd",
   "metadata": {},
   "source": [
    "### 2. Suppressing Warnings"
   ]
  },
  {
   "cell_type": "code",
   "execution_count": 3,
   "id": "f102c5c7-c7a6-453d-a5db-020e7cbf48be",
   "metadata": {},
   "outputs": [],
   "source": [
    "import warnings\n",
    "warnings.filterwarnings('ignore')"
   ]
  },
  {
   "cell_type": "markdown",
   "id": "fb3c1329-ac03-4a52-a431-28ca30caed21",
   "metadata": {},
   "source": [
    "### 3. Importing Libraries"
   ]
  },
  {
   "cell_type": "code",
   "execution_count": 4,
   "id": "37b84f71-d134-4c7e-8bba-d070bc1f9e98",
   "metadata": {},
   "outputs": [],
   "source": [
    "import pandas as pd\n",
    "import matplotlib.pyplot as plt\n",
    "from transformers import pipeline"
   ]
  },
  {
   "cell_type": "markdown",
   "id": "7a8631f0-993b-4bab-96f3-1c2c02da86c8",
   "metadata": {},
   "source": [
    "### 4. Loading Commentary CSV from GitHub"
   ]
  },
  {
   "cell_type": "code",
   "execution_count": 5,
   "id": "ed800c7e-f741-4585-911b-63093ebf29cd",
   "metadata": {},
   "outputs": [
    {
     "data": {
      "text/html": [
       "<div>\n",
       "<style scoped>\n",
       "    .dataframe tbody tr th:only-of-type {\n",
       "        vertical-align: middle;\n",
       "    }\n",
       "\n",
       "    .dataframe tbody tr th {\n",
       "        vertical-align: top;\n",
       "    }\n",
       "\n",
       "    .dataframe thead th {\n",
       "        text-align: right;\n",
       "    }\n",
       "</style>\n",
       "<table border=\"1\" class=\"dataframe\">\n",
       "  <thead>\n",
       "    <tr style=\"text-align: right;\">\n",
       "      <th></th>\n",
       "      <th>Unnamed: 0</th>\n",
       "      <th>commentary</th>\n",
       "    </tr>\n",
       "  </thead>\n",
       "  <tbody>\n",
       "    <tr>\n",
       "      <th>0</th>\n",
       "      <td>19</td>\n",
       "      <td>Travis Head | Player of the Match - 137(120): ...</td>\n",
       "    </tr>\n",
       "    <tr>\n",
       "      <th>1</th>\n",
       "      <td>20</td>\n",
       "      <td>Adam Zampa: Interesting to see the strategy to...</td>\n",
       "    </tr>\n",
       "    <tr>\n",
       "      <th>2</th>\n",
       "      <td>21</td>\n",
       "      <td>Mitchell Starc: He (Cummins) was phenomenal, h...</td>\n",
       "    </tr>\n",
       "    <tr>\n",
       "      <th>3</th>\n",
       "      <td>22</td>\n",
       "      <td>Steve Smith: Incredible feeling! Atmosphere wa...</td>\n",
       "    </tr>\n",
       "    <tr>\n",
       "      <th>4</th>\n",
       "      <td>23</td>\n",
       "      <td>Mitch Marsh: Pure elation right now. Been the ...</td>\n",
       "    </tr>\n",
       "  </tbody>\n",
       "</table>\n",
       "</div>"
      ],
      "text/plain": [
       "   Unnamed: 0                                         commentary\n",
       "0          19  Travis Head | Player of the Match - 137(120): ...\n",
       "1          20  Adam Zampa: Interesting to see the strategy to...\n",
       "2          21  Mitchell Starc: He (Cummins) was phenomenal, h...\n",
       "3          22  Steve Smith: Incredible feeling! Atmosphere wa...\n",
       "4          23  Mitch Marsh: Pure elation right now. Been the ..."
      ]
     },
     "execution_count": 5,
     "metadata": {},
     "output_type": "execute_result"
    }
   ],
   "source": [
    "# Link to GitHub file\n",
    "url = \"https://raw.githubusercontent.com/Dilwanthennakoon/Icc-world-cup-stats-project/main/commentary_2023.csv\"\n",
    "\n",
    "# Read the data\n",
    "df = pd.read_csv(url)\n",
    "\n",
    "# View first few rows\n",
    "df.head()"
   ]
  },
  {
   "cell_type": "markdown",
   "id": "b0e12acf-01c8-4d98-bf83-bbe9ff9b982f",
   "metadata": {},
   "source": [
    "### Note (About GitHub file link)\n",
    "- The commentary CSV file was hosted in the GitHub repositary created by our group leader **Dilwan Thennakoon**. All members worked in separate brances within this shared repositary."
   ]
  },
  {
   "cell_type": "markdown",
   "id": "9f1dd042-dde0-40db-8db2-8249ffeb6807",
   "metadata": {},
   "source": [
    "### 5. Loading the Hugging Face Sentiment Model"
   ]
  },
  {
   "cell_type": "code",
   "execution_count": 6,
   "id": "c663e163-b4d3-47f3-adf6-6dc03fd38156",
   "metadata": {},
   "outputs": [
    {
     "name": "stderr",
     "output_type": "stream",
     "text": [
      "Device set to use cpu\n"
     ]
    }
   ],
   "source": [
    "sentiment_model = pipeline(\"sentiment-analysis\", model=\"cardiffnlp/twitter-roberta-base-sentiment\")"
   ]
  },
  {
   "cell_type": "markdown",
   "id": "a77d5462-9bd8-4460-b310-e41badef4141",
   "metadata": {},
   "source": [
    "### Note (Why choose this model)\n",
    "- **`cardiffnlp/twitter-roberta-base-sentiment`** model was selected because it is trained on short, real-world texts like tweets, which are similar to cricket commentary in length and style.\n",
    "- It provides 3 sentiment classes **(Positive, Neutral, Negative)** allowing us to capture the emotional tone more accurately than simple 2-class models."
   ]
  },
  {
   "cell_type": "markdown",
   "id": "ea9b6f95-0ccc-43e3-bfe4-4bb3041381c6",
   "metadata": {},
   "source": [
    "### 6. Applying Sentiment to Commentary"
   ]
  },
  {
   "cell_type": "code",
   "execution_count": 7,
   "id": "bc2fc385-21b2-4b6c-ad95-3c014a4092c1",
   "metadata": {},
   "outputs": [
    {
     "data": {
      "text/html": [
       "<div>\n",
       "<style scoped>\n",
       "    .dataframe tbody tr th:only-of-type {\n",
       "        vertical-align: middle;\n",
       "    }\n",
       "\n",
       "    .dataframe tbody tr th {\n",
       "        vertical-align: top;\n",
       "    }\n",
       "\n",
       "    .dataframe thead th {\n",
       "        text-align: right;\n",
       "    }\n",
       "</style>\n",
       "<table border=\"1\" class=\"dataframe\">\n",
       "  <thead>\n",
       "    <tr style=\"text-align: right;\">\n",
       "      <th></th>\n",
       "      <th>Unnamed: 0</th>\n",
       "      <th>commentary</th>\n",
       "      <th>sentiment</th>\n",
       "    </tr>\n",
       "  </thead>\n",
       "  <tbody>\n",
       "    <tr>\n",
       "      <th>0</th>\n",
       "      <td>19</td>\n",
       "      <td>Travis Head | Player of the Match - 137(120): ...</td>\n",
       "      <td>positive</td>\n",
       "    </tr>\n",
       "    <tr>\n",
       "      <th>1</th>\n",
       "      <td>20</td>\n",
       "      <td>Adam Zampa: Interesting to see the strategy to...</td>\n",
       "      <td>positive</td>\n",
       "    </tr>\n",
       "    <tr>\n",
       "      <th>2</th>\n",
       "      <td>21</td>\n",
       "      <td>Mitchell Starc: He (Cummins) was phenomenal, h...</td>\n",
       "      <td>positive</td>\n",
       "    </tr>\n",
       "    <tr>\n",
       "      <th>3</th>\n",
       "      <td>22</td>\n",
       "      <td>Steve Smith: Incredible feeling! Atmosphere wa...</td>\n",
       "      <td>positive</td>\n",
       "    </tr>\n",
       "    <tr>\n",
       "      <th>4</th>\n",
       "      <td>23</td>\n",
       "      <td>Mitch Marsh: Pure elation right now. Been the ...</td>\n",
       "      <td>positive</td>\n",
       "    </tr>\n",
       "  </tbody>\n",
       "</table>\n",
       "</div>"
      ],
      "text/plain": [
       "   Unnamed: 0                                         commentary sentiment\n",
       "0          19  Travis Head | Player of the Match - 137(120): ...  positive\n",
       "1          20  Adam Zampa: Interesting to see the strategy to...  positive\n",
       "2          21  Mitchell Starc: He (Cummins) was phenomenal, h...  positive\n",
       "3          22  Steve Smith: Incredible feeling! Atmosphere wa...  positive\n",
       "4          23  Mitch Marsh: Pure elation right now. Been the ...  positive"
      ]
     },
     "execution_count": 7,
     "metadata": {},
     "output_type": "execute_result"
    }
   ],
   "source": [
    "# Define a mapping for the string labels\n",
    "label_mapping = {'LABEL_0': 'negative', 'LABEL_1': 'neutral', 'LABEL_2': 'positive'}\n",
    "\n",
    "# Apply the model to each commentary line and map the labels\n",
    "df['sentiment'] = df['commentary'].apply(lambda x: label_mapping[sentiment_model(x)[0]['label']])\n",
    "\n",
    "# View updated data\n",
    "df.head()"
   ]
  },
  {
   "cell_type": "markdown",
   "id": "28048d4f-1671-45cc-9621-6bb5c70d1ada",
   "metadata": {},
   "source": [
    "### 7. Analyzing Most Common Sentiment"
   ]
  },
  {
   "cell_type": "code",
   "execution_count": 8,
   "id": "54cbfa2f-c6a3-4cff-b460-9d86e5621778",
   "metadata": {},
   "outputs": [
    {
     "name": "stdout",
     "output_type": "stream",
     "text": [
      "The most common sentiment in the 2023 Final commentary is: neutral\n"
     ]
    }
   ],
   "source": [
    "most_common_sentiment = df['sentiment'].value_counts().idxmax()\n",
    "print(f\"The most common sentiment in the 2023 Final commentary is: {most_common_sentiment}\")"
   ]
  },
  {
   "cell_type": "markdown",
   "id": "1e547381-9063-4c7b-abf4-a7d1c65530c5",
   "metadata": {},
   "source": [
    "### 8. Showing Few Random Examples Of Neutral Lines"
   ]
  },
  {
   "cell_type": "code",
   "execution_count": 9,
   "id": "1a066984-3fca-4f27-b743-33a9f03914db",
   "metadata": {},
   "outputs": [
    {
     "data": {
      "text/html": [
       "<div>\n",
       "<style scoped>\n",
       "    .dataframe tbody tr th:only-of-type {\n",
       "        vertical-align: middle;\n",
       "    }\n",
       "\n",
       "    .dataframe tbody tr th {\n",
       "        vertical-align: top;\n",
       "    }\n",
       "\n",
       "    .dataframe thead th {\n",
       "        text-align: right;\n",
       "    }\n",
       "</style>\n",
       "<table border=\"1\" class=\"dataframe\">\n",
       "  <thead>\n",
       "    <tr style=\"text-align: right;\">\n",
       "      <th></th>\n",
       "      <th>commentary</th>\n",
       "      <th>sentiment</th>\n",
       "    </tr>\n",
       "  </thead>\n",
       "  <tbody>\n",
       "    <tr>\n",
       "      <th>127</th>\n",
       "      <td>Jadeja to Labuschagne, 1 run, tossed up full o...</td>\n",
       "      <td>neutral</td>\n",
       "    </tr>\n",
       "    <tr>\n",
       "      <th>20</th>\n",
       "      <td>Siraj to Head, 1 run, full ball on the stumps,...</td>\n",
       "      <td>neutral</td>\n",
       "    </tr>\n",
       "    <tr>\n",
       "      <th>59</th>\n",
       "      <td>Kuldeep Yadav to Labuschagne, 1 run, Labuschag...</td>\n",
       "      <td>neutral</td>\n",
       "    </tr>\n",
       "    <tr>\n",
       "      <th>11</th>\n",
       "      <td>21:31 local, 16:01 GMT, 21:31 IST: Write off A...</td>\n",
       "      <td>neutral</td>\n",
       "    </tr>\n",
       "    <tr>\n",
       "      <th>372</th>\n",
       "      <td>Bumrah round the wicket to Head and two slips ...</td>\n",
       "      <td>neutral</td>\n",
       "    </tr>\n",
       "  </tbody>\n",
       "</table>\n",
       "</div>"
      ],
      "text/plain": [
       "                                            commentary sentiment\n",
       "127  Jadeja to Labuschagne, 1 run, tossed up full o...   neutral\n",
       "20   Siraj to Head, 1 run, full ball on the stumps,...   neutral\n",
       "59   Kuldeep Yadav to Labuschagne, 1 run, Labuschag...   neutral\n",
       "11   21:31 local, 16:01 GMT, 21:31 IST: Write off A...   neutral\n",
       "372  Bumrah round the wicket to Head and two slips ...   neutral"
      ]
     },
     "execution_count": 9,
     "metadata": {},
     "output_type": "execute_result"
    }
   ],
   "source": [
    "neutral_examples = df[df['sentiment'] == 'neutral'].sample(5)\n",
    "neutral_examples[['commentary', 'sentiment']]"
   ]
  },
  {
   "cell_type": "markdown",
   "id": "74b04cc5-d5d3-423c-a47a-924ad6fabb26",
   "metadata": {},
   "source": [
    "### 9. Visualizing Sentiment Spread ( Pie Chart )"
   ]
  },
  {
   "cell_type": "code",
   "execution_count": 10,
   "id": "6e18a192-839a-4975-b15f-1902fbce6d53",
   "metadata": {},
   "outputs": [
    {
     "data": {
      "image/png": "[encoded data removed]",
      "text/plain": [
       "<Figure size 640x480 with 1 Axes>"
      ]
     },
     "metadata": {},
     "output_type": "display_data"
    }
   ],
   "source": [
    "colors = ['lightgreen', 'lightcoral', 'lightblue']\n",
    "explode = (0.05, 0.05, 0.05)  # separate pie parts\n",
    "\n",
    "df['sentiment'].value_counts().plot(\n",
    "    kind='pie',\n",
    "    autopct='%1.1f%%',\n",
    "    colors=colors,\n",
    "    explode=explode,\n",
    "    shadow=True\n",
    ")\n",
    "\n",
    "plt.title(\"Sentiment Analysis of 2023 Final Commentary\")\n",
    "plt.ylabel('')\n",
    "plt.show()"
   ]
  },
  {
   "cell_type": "markdown",
   "id": "062b483b-86d9-494b-b80f-fa316626f9d8",
   "metadata": {},
   "source": [
    "### Note (Understanding Most Common Neutral Sentiment)\n",
    "- Observed that the model classified many commentary lines as **Neutral**.\n",
    "- This is expected and appropriate, because sports commentary often contains factual or descriptive sentences without emotional tone.\n",
    "- In fact, our analysis showed that **Neutral** was the most common sentiment overall.  \n",
    "- This reflects the formal, objective nature of cricket broadcasting, where emotion is not always expressed in every line."
   ]
  },
  {
   "cell_type": "markdown",
   "id": "c2bff1cc-5948-4f0e-b6f0-1c4fdfcbb261",
   "metadata": {},
   "source": [
    "### 10. Save the Updated Dataset with Sentiment"
   ]
  },
  {
   "cell_type": "code",
   "execution_count": 11,
   "id": "fb3cf877-b320-4b91-ab48-664f27609255",
   "metadata": {},
   "outputs": [],
   "source": [
    "df.to_csv(\"ICC Men's Cricket World Cup-Task 03.csv\", index=False)"
   ]
  }
 ],
 "metadata": {
  "kernelspec": {
   "display_name": "Python 3 (ipykernel)",
   "language": "python",
   "name": "python3"
  },
  "language_info": {
   "codemirror_mode": {
    "name": "ipython",
    "version": 3
   },
   "file_extension": ".py",
   "mimetype": "text/x-python",
   "name": "python",
   "nbconvert_exporter": "python",
   "pygments_lexer": "ipython3",
   "version": "3.12.7"
  }
 },
 "nbformat": 4,
 "nbformat_minor": 5
}

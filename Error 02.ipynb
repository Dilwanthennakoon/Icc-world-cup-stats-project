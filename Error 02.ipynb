{
 "cells": [
  {
   "cell_type": "markdown",
   "id": "8eeaafe3-2cb8-43fa-817f-0f2d30344d90",
   "metadata": {},
   "source": [
    "# Error 02"
   ]
  },
  {
   "cell_type": "code",
   "execution_count": 2,
   "id": "156259eb-b928-43e5-b2fc-3581a3c5e149",
   "metadata": {},
   "outputs": [
    {
     "name": "stdout",
     "output_type": "stream",
     "text": [
      "Requirement already satisfied: pandas in c:\\users\\d u l m i\\anaconda3\\lib\\site-packages (2.2.2)\n",
      "Requirement already satisfied: matplotlib in c:\\users\\d u l m i\\anaconda3\\lib\\site-packages (3.9.2)\n"
     ]
    },
    {
     "name": "stderr",
     "output_type": "stream",
     "text": [
      "WARNING: Retrying (Retry(total=4, connect=None, read=None, redirect=None, status=None)) after connection broken by 'NewConnectionError('<pip._vendor.urllib3.connection.HTTPSConnection object at 0x00000216F29184D0>: Failed to establish a new connection: [Errno 11001] getaddrinfo failed')': /simple/transformers/\n",
      "WARNING: Retrying (Retry(total=3, connect=None, read=None, redirect=None, status=None)) after connection broken by 'NewConnectionError('<pip._vendor.urllib3.connection.HTTPSConnection object at 0x00000216F2B02A20>: Failed to establish a new connection: [Errno 11001] getaddrinfo failed')': /simple/transformers/\n",
      "WARNING: Retrying (Retry(total=2, connect=None, read=None, redirect=None, status=None)) after connection broken by 'NewConnectionError('<pip._vendor.urllib3.connection.HTTPSConnection object at 0x00000216F2B01220>: Failed to establish a new connection: [Errno 11001] getaddrinfo failed')': /simple/transformers/\n",
      "WARNING: Retrying (Retry(total=1, connect=None, read=None, redirect=None, status=None)) after connection broken by 'NewConnectionError('<pip._vendor.urllib3.connection.HTTPSConnection object at 0x00000216F2B01A60>: Failed to establish a new connection: [Errno 11001] getaddrinfo failed')': /simple/transformers/\n",
      "WARNING: Retrying (Retry(total=0, connect=None, read=None, redirect=None, status=None)) after connection broken by 'NewConnectionError('<pip._vendor.urllib3.connection.HTTPSConnection object at 0x00000216F2B3DF40>: Failed to establish a new connection: [Errno 11001] getaddrinfo failed')': /simple/transformers/\n",
      "ERROR: Could not find a version that satisfies the requirement transformers (from versions: none)\n",
      "ERROR: No matching distribution found for transformers\n"
     ]
    }
   ],
   "source": [
    "!pip install pandas matplotlib transformers torch"
   ]
  },
  {
   "cell_type": "markdown",
   "id": "e216f7f4-9b4b-407b-bc65-43cb8134afb1",
   "metadata": {},
   "source": [
    "### Could Not Install transformers — Network Issue\n",
    "\n",
    "**What Happened:**\n",
    "When I tried to install the transformers library, I got repeated warnings and this final error.\n",
    "\n",
    "**Why it happened:**\n",
    "My computer was not connected to the internet. That's why it couldn't reach the Python Package Index server.\n",
    "\n",
    "**How I Fixed It:**\n",
    "I reconnected to the internet. Then I ran the same command again."
   ]
  }
 ],
 "metadata": {
  "kernelspec": {
   "display_name": "Python 3 (ipykernel)",
   "language": "python",
   "name": "python3"
  },
  "language_info": {
   "codemirror_mode": {
    "name": "ipython",
    "version": 3
   },
   "file_extension": ".py",
   "mimetype": "text/x-python",
   "name": "python",
   "nbconvert_exporter": "python",
   "pygments_lexer": "ipython3",
   "version": "3.12.7"
  }
 },
 "nbformat": 4,
 "nbformat_minor": 5
}
